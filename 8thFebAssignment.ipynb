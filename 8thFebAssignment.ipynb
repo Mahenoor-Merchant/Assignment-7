{
 "cells": [
  {
   "cell_type": "markdown",
   "id": "c23b4590-b47c-4741-9639-9772700fc480",
   "metadata": {},
   "source": [
    "### Q1. What is Abstraction in OOps? Explain with an example."
   ]
  },
  {
   "cell_type": "markdown",
   "id": "eafa6a78-90e6-49a0-b324-b0cf7942989e",
   "metadata": {},
   "source": [
    "Abstraction is a fundamental concept in object-oriented programming (OOP) that refers to the ability to focus on the essential features of an object while ignoring the details that are not relevant to its current purpose. Abstraction allows for the creation of simpler, more manageable systems that can be easily modified and extended.\n",
    "\n",
    "An example of abstraction can be seen in a car. When we use a car, we don't need to know how the engine works or how the transmission is shifting gears. Instead, we only need to know how to operate the steering wheel, pedals, and gear lever to control the car's movements. In this case, the car's internal workings are abstracted away from the user, allowing them to focus only on the essential features that they need to control.\n",
    "\n",
    "In OOP, abstraction is often achieved through the use of abstract classes and interfaces. Abstract classes are classes that cannot be instantiated and are used as templates for other classes to inherit from. Interfaces define a set of methods that must be implemented by any class that implements the interface, allowing for a standardized way of interacting with different objects. Both of these techniques allow for the abstraction of complex details and the creation of more manageable, modular code."
   ]
  },
  {
   "cell_type": "code",
   "execution_count": 1,
   "id": "57c63f3c-8fd9-4c37-9021-8440f10763e0",
   "metadata": {},
   "outputs": [],
   "source": [
    "from abc import ABC, abstractmethod\n",
    "\n",
    "class Vehicle(ABC):\n",
    "    @abstractmethod\n",
    "    def start(self):\n",
    "        pass\n",
    "\n",
    "    @abstractmethod\n",
    "    def stop(self):\n",
    "        pass\n",
    "\n",
    "class Car(Vehicle):\n",
    "    def start(self):\n",
    "        print(\"Starting the car engine...\")\n",
    "\n",
    "    def stop(self):\n",
    "        print(\"Stopping the car engine...\")\n",
    "\n",
    "class Motorcycle(Vehicle):\n",
    "    def start(self):\n",
    "        print(\"Starting the motorcycle engine...\")\n",
    "\n",
    "    def stop(self):\n",
    "        print(\"Stopping the motorcycle engine...\")\n",
    "\n"
   ]
  },
  {
   "cell_type": "code",
   "execution_count": 2,
   "id": "0c20cc48-9ab7-4511-b7d2-74700ab5b5ce",
   "metadata": {},
   "outputs": [
    {
     "name": "stdout",
     "output_type": "stream",
     "text": [
      "Starting the car engine...\n",
      "Stopping the car engine...\n",
      "Starting the motorcycle engine...\n",
      "Stopping the motorcycle engine...\n"
     ]
    }
   ],
   "source": [
    "def drive(vehicle):\n",
    "    vehicle.start()\n",
    "    # do some driving...\n",
    "    vehicle.stop()\n",
    "\n",
    "car = Car()\n",
    "motorcycle = Motorcycle()\n",
    "\n",
    "drive(car)\n",
    "drive(motorcycle)\n"
   ]
  },
  {
   "cell_type": "markdown",
   "id": "753b6680-626d-4c9e-8d02-9519c9a4b58f",
   "metadata": {},
   "source": [
    "In this code, the drive function takes a Vehicle object as an argument and calls its start and stop methods. We can pass in either a Car or Motorcycle object, and the function will work the same way regardless of which type of vehicle we're driving. This allows us to abstract away the details of each individual vehicle, making our code more modular and easier to work with."
   ]
  },
  {
   "cell_type": "markdown",
   "id": "6d8ca220-62e4-475b-aa98-b24d7a5a9931",
   "metadata": {},
   "source": [
    "### Q2. Differentiate between Abstraction and Encapsulation. Explain with an example.\n"
   ]
  },
  {
   "cell_type": "markdown",
   "id": "f4f1ee72-bd05-4c48-9a8c-7f076a9cb957",
   "metadata": {},
   "source": [
    "Abstraction and encapsulation are two important concepts in object-oriented programming (OOP), but they refer to different aspects of designing a system.\n",
    "\n",
    "Abstraction is the process of simplifying a complex system by focusing on its essential features and ignoring irrelevant details. Abstraction allows for the creation of simpler, more manageable systems that can be easily modified and extended. Abstraction is achieved through the use of abstract classes and interfaces.\n",
    "\n",
    "Encapsulation, on the other hand, is the process of hiding the internal details of an object and providing a public interface for interacting with that object. Encapsulation allows for the creation of more secure and robust systems, by preventing external code from directly accessing an object's internal state. Encapsulation is achieved through the use of access modifiers, such as private and public, that control the visibility of an object's data and methods.\n",
    "\n",
    "Here's an example to illustrate the difference between abstraction and encapsulation:\n"
   ]
  },
  {
   "cell_type": "code",
   "execution_count": 3,
   "id": "46acf49e-875d-4b0c-a690-760734e0773a",
   "metadata": {},
   "outputs": [],
   "source": [
    "class BankAccount:\n",
    "    def __init__(self, balance):\n",
    "        self.__balance = balance\n",
    "\n",
    "    def deposit(self, amount):\n",
    "        self.__balance += amount\n",
    "\n",
    "    def withdraw(self, amount):\n",
    "        if amount <= self.__balance:\n",
    "            self.__balance -= amount\n",
    "        else:\n",
    "            print(\"Insufficient balance\")\n",
    "\n",
    "    def get_balance(self):\n",
    "        return self.__balance\n"
   ]
  },
  {
   "cell_type": "markdown",
   "id": "6c74534a-b1d4-4908-87b0-90f3d2066b9f",
   "metadata": {},
   "source": [
    "In this example, we have a BankAccount class that represents a simple bank account. The class has a private variable __balance that stores the current balance of the account, as well as public methods deposit, withdraw, and get_balance that allow external code to interact with the account.\n",
    "\n",
    "Encapsulation is used here to hide the internal details of the account (i.e., the balance) from external code. The __balance variable is marked as private, which means it cannot be accessed directly from outside the class. Instead, external code must use the public methods deposit, withdraw, and get_balance to interact with the account.\n",
    "\n",
    "Abstraction is used here to simplify the system by focusing on its essential features (i.e., the ability to deposit, withdraw, and get the balance of an account) and ignoring irrelevant details (i.e., how the account is actually implemented). The use of an object-oriented interface allows us to abstract away the details of the bank account, making it easier to use and modify.\n",
    "\n",
    "In summary, encapsulation is concerned with hiding the internal details of an object, while abstraction is concerned with simplifying a complex system by focusing on its essential features. Both concepts are important in OOP and are often used together to create more secure, manageable, and extensible systems."
   ]
  },
  {
   "cell_type": "markdown",
   "id": "37c2b3aa-74c8-427d-97a6-3bd195d04387",
   "metadata": {},
   "source": [
    "### Q3. What is abc module in python? Why is it used?"
   ]
  },
  {
   "cell_type": "markdown",
   "id": "fb38811c-9e5e-493d-b68c-bf6e3a3e1500",
   "metadata": {},
   "source": [
    "The abc module in Python stands for Abstract Base Classes. It provides an infrastructure for defining abstract base classes (ABCs) in Python.\n",
    "\n",
    "ABCs are classes that cannot be instantiated and are meant to serve as templates for concrete subclasses. They define a set of methods that any concrete subclass must implement in order to be considered a valid implementation of the abstract base class. This allows for a level of type checking at runtime, ensuring that objects are used as intended.\n",
    "\n",
    "The abc module is used to create these abstract base classes, as well as to register them and check whether a given class or object conforms to the required interface. It is particularly useful when defining APIs that require certain functionality or behavior from objects that implement them, as it allows for explicit specification and enforcement of these requirements.\n",
    "\n",
    "Here's a simple example of how to use the abc module to define an abstract base class:"
   ]
  },
  {
   "cell_type": "code",
   "execution_count": 5,
   "id": "b8424ec5-44b3-49db-84f6-a287a67f79e8",
   "metadata": {},
   "outputs": [],
   "source": [
    "import abc\n",
    "\n",
    "class Vehicle(metaclass=abc.ABCMeta):\n",
    "    \n",
    "    @abc.abstractmethod\n",
    "    def start_engine(self):\n",
    "        pass\n",
    "    \n",
    "    @abc.abstractmethod\n",
    "    def stop_engine(self):\n",
    "        pass\n",
    "    \n",
    "class Car(Vehicle):\n",
    "    \n",
    "    def start_engine(self):\n",
    "        print(\"Starting car engine\")\n",
    "    \n",
    "    def stop_engine(self):\n",
    "        print(\"Stopping car engine\")\n",
    "\n",
    "class Boat(Vehicle):\n",
    "    \n",
    "    def start_engine(self):\n",
    "        print(\"Starting boat engine\")\n",
    "    \n",
    "    def stop_engine(self):\n",
    "        print(\"Stopping boat engine\")\n",
    "\n"
   ]
  },
  {
   "cell_type": "code",
   "execution_count": 7,
   "id": "51a6d745-3610-4a3b-bd6c-7dcc5de5126d",
   "metadata": {},
   "outputs": [
    {
     "name": "stdout",
     "output_type": "stream",
     "text": [
      "Starting car engine\n",
      "Stopping car engine\n"
     ]
    }
   ],
   "source": [
    "car = Car()\n",
    "car.start_engine()  \n",
    "car.stop_engine()  \n"
   ]
  },
  {
   "cell_type": "code",
   "execution_count": 8,
   "id": "fcf8483b-8d85-40f5-9c27-ea9fa720992e",
   "metadata": {},
   "outputs": [
    {
     "name": "stdout",
     "output_type": "stream",
     "text": [
      "Starting boat engine\n",
      "Stopping boat engine\n"
     ]
    }
   ],
   "source": [
    "\n",
    "boat = Boat()\n",
    "boat.start_engine() \n",
    "boat.stop_engine()  \n"
   ]
  },
  {
   "cell_type": "markdown",
   "id": "c18aecfa-d20c-4247-8ef5-b5fca9825a6b",
   "metadata": {},
   "source": [
    "In this example, we define an abstract base class Vehicle with two abstract methods: start_engine() and stop_engine(). We then define two concrete subclasses Car and Boat that implement these methods. When we instantiate objects of these classes and call the start_engine() and stop_engine() methods, the appropriate implementation for each class is called. This allows us to enforce a common interface for all vehicles, while still allowing for specialized implementations for each subclass."
   ]
  },
  {
   "cell_type": "markdown",
   "id": "7071be59-2b74-4de2-a80d-a1914bf29ac1",
   "metadata": {},
   "source": [
    "### Q4. How can we achieve data abstraction?"
   ]
  },
  {
   "cell_type": "markdown",
   "id": "8faceefa-dda1-4915-9911-46b31e6d1224",
   "metadata": {},
   "source": [
    "In Python, we can achieve data abstraction using classes and objects. Abstraction is one of the fundamental principles of object-oriented programming, and it refers to the concept of hiding implementation details and only exposing essential features to the user.\n",
    "\n",
    "Here are the steps to achieve data abstraction in Python:\n",
    "\n",
    "Define a class: Start by defining a class that encapsulates the data and methods needed to perform the desired task. A class is a blueprint for creating objects with specific properties and behaviors.\n",
    "\n",
    "Define public methods: Define public methods in the class that allow the user to interact with the data stored in the class. These methods should be the only way the user can access or modify the data stored in the class.\n",
    "\n",
    "Hide implementation details: Hide the implementation details by making the data members of the class private. Private data members can only be accessed within the class, so the user cannot access or modify them directly.\n",
    "\n",
    "Use getter and setter methods: To access and modify the private data members, define getter and setter methods in the class. Getter methods allow the user to retrieve the value of a private data member, while setter methods allow the user to modify the value of a private data member.\n",
    "\n",
    "Here's an example of how to achieve data abstraction in Python:"
   ]
  },
  {
   "cell_type": "code",
   "execution_count": 32,
   "id": "113c7f5b-bbcd-45ef-86b8-d443182110d8",
   "metadata": {},
   "outputs": [],
   "source": [
    "class bankaccount:\n",
    "\n",
    "    def __init__(self,balance):\n",
    "        self.__balance=balance\n",
    "        \n",
    "    def deposit(self,amount):\n",
    "        self.__balance+= amount\n",
    "        \n",
    "    def withdraw(self,amount):\n",
    "        if amount<=self.__balance:\n",
    "            self.__balance-=amount\n",
    "            \n",
    "        else:\n",
    "            print(\"insufficient balance\")\n",
    "            \n",
    "            \n",
    "    def get_balance(self):\n",
    "        return self.__balance\n",
    "    "
   ]
  },
  {
   "cell_type": "code",
   "execution_count": 33,
   "id": "397dff2b-221d-4003-b01c-30861c8b0e38",
   "metadata": {},
   "outputs": [],
   "source": [
    "pwskills=bankaccount(100000)"
   ]
  },
  {
   "cell_type": "code",
   "execution_count": 34,
   "id": "9a08e800-4943-44a8-bc30-40fad086bfc7",
   "metadata": {},
   "outputs": [
    {
     "name": "stdout",
     "output_type": "stream",
     "text": [
      "100000\n"
     ]
    }
   ],
   "source": [
    "print(pwskills.get_balance())"
   ]
  },
  {
   "cell_type": "code",
   "execution_count": 35,
   "id": "8bec84db-dc9e-426e-9bf4-339eee1480aa",
   "metadata": {},
   "outputs": [
    {
     "name": "stdout",
     "output_type": "stream",
     "text": [
      "None\n"
     ]
    }
   ],
   "source": [
    "print(pwskills.withdraw(5200))"
   ]
  },
  {
   "cell_type": "code",
   "execution_count": 36,
   "id": "371b51c3-65e8-4d0d-9619-0414c6064384",
   "metadata": {},
   "outputs": [
    {
     "name": "stdout",
     "output_type": "stream",
     "text": [
      "None\n"
     ]
    }
   ],
   "source": [
    "print(pwskills.deposit(200))"
   ]
  },
  {
   "cell_type": "code",
   "execution_count": 37,
   "id": "4bcf93e0-18c4-4e57-98b8-e5f13e3444b2",
   "metadata": {},
   "outputs": [
    {
     "name": "stdout",
     "output_type": "stream",
     "text": [
      "95000\n"
     ]
    }
   ],
   "source": [
    "print(pwskills.get_balance())"
   ]
  },
  {
   "cell_type": "markdown",
   "id": "4b00a2c5-2ee0-488f-902f-2f079cce4ba4",
   "metadata": {},
   "source": [
    "### Q5. Can we create an instance of an abstract class? Explain your answer."
   ]
  },
  {
   "cell_type": "markdown",
   "id": "ccd453b3-91b9-49f6-8374-aef80bda8f15",
   "metadata": {
    "jp-MarkdownHeadingCollapsed": true,
    "tags": []
   },
   "source": [
    "No, we cannot create an instance of an abstract class in Python.\n",
    "\n",
    "An abstract class is a class that has at least one abstract method, which is a method that has a declaration but no implementation. Abstract classes are meant to be used as templates for concrete classes, and cannot be instantiated on their own.\n",
    "\n",
    "When we try to create an instance of an abstract class in Python, we will get a TypeError with a message that says \"Can't instantiate abstract class [ClassName] with abstract methods [list of abstract methods]\". This is because abstract classes are not meant to be instantiated, and trying to do so violates the principle of abstraction in object-oriented programming.\n",
    "\n",
    "Here's an example that demonstrates this:\n",
    "\n"
   ]
  },
  {
   "cell_type": "code",
   "execution_count": 39,
   "id": "55779962-d033-4254-a7d6-cb1caf92859f",
   "metadata": {},
   "outputs": [
    {
     "ename": "TypeError",
     "evalue": "Can't instantiate abstract class MyAbstractClass with abstract method my_method",
     "output_type": "error",
     "traceback": [
      "\u001b[0;31m---------------------------------------------------------------------------\u001b[0m",
      "\u001b[0;31mTypeError\u001b[0m                                 Traceback (most recent call last)",
      "Cell \u001b[0;32mIn[39], line 9\u001b[0m\n\u001b[1;32m      5\u001b[0m     \u001b[38;5;129m@abc\u001b[39m\u001b[38;5;241m.\u001b[39mabstractmethod\n\u001b[1;32m      6\u001b[0m     \u001b[38;5;28;01mdef\u001b[39;00m \u001b[38;5;21mmy_method\u001b[39m(\u001b[38;5;28mself\u001b[39m):\n\u001b[1;32m      7\u001b[0m         \u001b[38;5;28;01mpass\u001b[39;00m\n\u001b[0;32m----> 9\u001b[0m my_object \u001b[38;5;241m=\u001b[39m \u001b[43mMyAbstractClass\u001b[49m\u001b[43m(\u001b[49m\u001b[43m)\u001b[49m \n",
      "\u001b[0;31mTypeError\u001b[0m: Can't instantiate abstract class MyAbstractClass with abstract method my_method"
     ]
    }
   ],
   "source": [
    "import abc\n",
    "\n",
    "class MyAbstractClass(metaclass=abc.ABCMeta):\n",
    "\n",
    "    @abc.abstractmethod\n",
    "    def my_method(self):\n",
    "        pass\n",
    "\n",
    "my_object = MyAbstractClass() "
   ]
  }
 ],
 "metadata": {
  "kernelspec": {
   "display_name": "Python 3 (ipykernel)",
   "language": "python",
   "name": "python3"
  },
  "language_info": {
   "codemirror_mode": {
    "name": "ipython",
    "version": 3
   },
   "file_extension": ".py",
   "mimetype": "text/x-python",
   "name": "python",
   "nbconvert_exporter": "python",
   "pygments_lexer": "ipython3",
   "version": "3.10.8"
  }
 },
 "nbformat": 4,
 "nbformat_minor": 5
}
